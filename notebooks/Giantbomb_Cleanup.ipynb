{
 "cells": [
  {
   "cell_type": "markdown",
   "metadata": {},
   "source": [
    "# Code to cleanup data collected from Giantbomb"
   ]
  },
  {
   "cell_type": "code",
   "execution_count": 26,
   "metadata": {
    "collapsed": true
   },
   "outputs": [],
   "source": [
    "import math\n",
    "import random\n",
    "import matplotlib.pyplot as plt\n",
    "import numpy as np\n",
    "import pandas as pd\n",
    "from scipy.spatial.distance import pdist, squareform\n",
    "import scipy as scipy\n",
    "import time\n",
    "plt.style.use('seaborn-whitegrid')\n",
    "get_ipython().magic('matplotlib inline')"
   ]
  },
  {
   "cell_type": "code",
   "execution_count": 27,
   "metadata": {
    "collapsed": true
   },
   "outputs": [],
   "source": [
    "df = pd.read_csv('twitch_games.csv')"
   ]
  },
  {
   "cell_type": "code",
   "execution_count": 132,
   "metadata": {
    "collapsed": true
   },
   "outputs": [],
   "source": [
    "giantbomb_ids = list(df[df['rank']<15]['giantbomb_id'].unique())"
   ]
  },
  {
   "cell_type": "code",
   "execution_count": 161,
   "metadata": {
    "collapsed": true
   },
   "outputs": [],
   "source": [
    "gb_df = pd.DataFrame(columns = [\"id\",\"gb_name\",\"gb_genre\",\"gb_deck\",\"gb_developers\",\"gb_image\",\"gb_release_date\",\"gb_publisher\"])"
   ]
  },
  {
   "cell_type": "code",
   "execution_count": 163,
   "metadata": {
    "collapsed": true
   },
   "outputs": [],
   "source": [
    "rowcount = 0\n",
    "for gbid in giantbomb_ids:\n",
    "    if gbid ==0:\n",
    "        continue\n",
    "    f = open('giantbomb/' + str(gbid) + '.txt')\n",
    "    soup = BeautifulSoup(f.read(), 'html.parser')\n",
    "    try:\n",
    "        name = soup.find_all(\"name\")[0].text\n",
    "    except:\n",
    "        name = \"\"\n",
    "    try:\n",
    "        genre = soup.find_all(\"genre\")[0].find_all(\"site_detail_url\")[0].text[42:soup.find_all(\"genre\")[0].find_all(\"site_detail_url\")[0].text.find('&')]\n",
    "    except:\n",
    "        genre = 'Other'\n",
    "    try:\n",
    "        deck = soup.find_all(\"deck\")[0].text\n",
    "    except:\n",
    "        deck = \"\"\n",
    "    try:\n",
    "        developers = soup.find_all(\"developers\")[0].company.find_all(\"name\")[0].text\n",
    "    except:\n",
    "        developers = \"\"\n",
    "    try:\n",
    "        image = soup.find_all(\"image\")[0].small_url.text\n",
    "    except:\n",
    "        image = \"\"\n",
    "    try:\n",
    "        release_date = soup.find_all(\"original_release_date\")[0].text\n",
    "    except:\n",
    "        release_date = \"\"\n",
    "    try:\n",
    "        publisher = soup.find_all(\"publishers\")[0].find_all(\"publisher\")[0].find_all(\"name\")[0].text\n",
    "    except:\n",
    "        publisher = \"\"\n",
    "    gb_df.loc[rowcount] = [gbid, name, genre, deck, developers, image, release_date, publisher]\n",
    "    rowcount=rowcount + 1\n",
    "    f.close()"
   ]
  },
  {
   "cell_type": "code",
   "execution_count": 164,
   "metadata": {
    "scrolled": false
   },
   "outputs": [
    {
     "data": {
      "text/plain": [
       "array([<matplotlib.axes._subplots.AxesSubplot object at 0x10ed5c890>], dtype=object)"
      ]
     },
     "execution_count": 164,
     "metadata": {},
     "output_type": "execute_result"
    },
    {
     "data": {
      "image/png": "[encoded data removed]",
      "text/plain": [
       "<matplotlib.figure.Figure at 0x10eb7e410>"
      ]
     },
     "metadata": {},
     "output_type": "display_data"
    }
   ],
   "source": [
    "gb_genres = gb_df[[\"gb_genre\"]].apply(pd.value_counts)\n",
    "gb_genres.columns=[\"Genre\"]\n",
    "gb_genres.plot(kind='barh', subplots=True, figsize=(15,10), color=\"purple\")"
   ]
  },
  {
   "cell_type": "markdown",
   "metadata": {},
   "source": [
    "## Fetch Images for game_titles"
   ]
  },
  {
   "cell_type": "code",
   "execution_count": 168,
   "metadata": {
    "collapsed": true
   },
   "outputs": [],
   "source": [
    "headers = r.utils.default_headers()\n",
    "\n",
    "# Update the headers with your custom ones\n",
    "# You don't have to worry about case-sensitivity with\n",
    "# the dictionary keys, because default_headers uses a custom\n",
    "# CaseInsensitiveDict implementation within requests' source code.\n",
    "headers.update(\n",
    "    {\n",
    "        'User-Agent': 'Shashank-UserAgent-1.0'\n",
    "    }\n",
    ")\n",
    "\n",
    "import shutil\n",
    "\n",
    "import time\n",
    "        \n",
    "ar = gb_df[\"id\"].values\n",
    "count = 0 \n",
    "for ele in gb_df[\"gb_image\"]:\n",
    "    if len(ele) == 0:\n",
    "        continue\n",
    "    rr = r.get(ele, stream=True, headers=headers)\n",
    "    if rr.status_code == 200:\n",
    "        with open('images/' + str(int(ar[count])) + '.png', 'wb') as f:\n",
    "            rr.raw.decode_content = True\n",
    "            shutil.copyfileobj(rr.raw, f)\n",
    "    count = count +1\n",
    "    time.sleep(2)"
   ]
  }
 ],
 "metadata": {
  "anaconda-cloud": {},
  "kernelspec": {
   "display_name": "Python 2",
   "language": "python",
   "name": "python2"
  },
  "language_info": {
   "codemirror_mode": {
    "name": "ipython",
    "version": 2
   },
   "file_extension": ".py",
   "mimetype": "text/x-python",
   "name": "python",
   "nbconvert_exporter": "python",
   "pygments_lexer": "ipython2",
   "version": "2.7.12"
  }
 },
 "nbformat": 4,
 "nbformat_minor": 2
}
