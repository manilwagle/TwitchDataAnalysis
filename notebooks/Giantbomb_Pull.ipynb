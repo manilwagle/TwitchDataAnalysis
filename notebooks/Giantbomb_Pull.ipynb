{
 "cells": [
  {
   "cell_type": "markdown",
   "metadata": {},
   "source": [
    "# Code to pull data using the Giantbomb API"
   ]
  },
  {
   "cell_type": "code",
   "execution_count": null,
   "metadata": {
    "collapsed": true
   },
   "outputs": [],
   "source": [
    "import math\n",
    "import random\n",
    "import matplotlib.pyplot as plt\n",
    "import numpy as np\n",
    "import pandas as pd\n",
    "from scipy.spatial.distance import pdist, squareform\n",
    "import scipy as scipy\n",
    "import time\n",
    "plt.style.use('seaborn-whitegrid')\n",
    "get_ipython().magic('matplotlib inline')"
   ]
  },
  {
   "cell_type": "code",
   "execution_count": null,
   "metadata": {},
   "outputs": [],
   "source": [
    "df = pd.read_csv('twitch_games.csv')"
   ]
  },
  {
   "cell_type": "code",
   "execution_count": null,
   "metadata": {
    "collapsed": true
   },
   "outputs": [],
   "source": [
    "import requests as r\n",
    "giantbomb_api_key = 'XXXX'\n",
    "giantbomb_url = 'https://www.giantbomb.com/api/game/'\n",
    "giantbomb_ids = list(df[df['rank']<15]['giantbomb_id'].unique())\n",
    "urls = []\n",
    "for gbid in giantbomb_ids:\n",
    "    if gbid == 0:\n",
    "        continue\n",
    "    request_url = giantbomb_url + str(gbid) + '/?api_key=' +giantbomb_api_key\n",
    "    urls.append(request_url)"
   ]
  },
  {
   "cell_type": "code",
   "execution_count": null,
   "metadata": {},
   "outputs": [],
   "source": [
    "print urls[:10]"
   ]
  },
  {
   "cell_type": "code",
   "execution_count": null,
   "metadata": {},
   "outputs": [],
   "source": [
    "headers = r.utils.default_headers()\n",
    "\n",
    "headers.update(\n",
    "    {\n",
    "        'User-Agent': 'XXXXX-UserAgent-1.0'\n",
    "    }\n",
    ")\n",
    "\n",
    "for url in urls[1:]:\n",
    "    print url\n",
    "    id1 = url[url.find('game/')+5:]\n",
    "    fname = id1[:id1.find('/')]\n",
    "    raw_data = r.get(url, headers=headers).text\n",
    "    f= open('giantbomb/' + fname+'.txt', 'w')\n",
    "    f.write(raw_data.encode('utf-8').strip())\n",
    "    f.close()\n",
    "    time.sleep(5)"
   ]
  }
 ],
 "metadata": {
  "anaconda-cloud": {},
  "kernelspec": {
   "display_name": "Python 2",
   "language": "python",
   "name": "python2"
  },
  "language_info": {
   "codemirror_mode": {
    "name": "ipython",
    "version": 2
   },
   "file_extension": ".py",
   "mimetype": "text/x-python",
   "name": "python",
   "nbconvert_exporter": "python",
   "pygments_lexer": "ipython2",
   "version": "2.7.12"
  }
 },
 "nbformat": 4,
 "nbformat_minor": 2
}
